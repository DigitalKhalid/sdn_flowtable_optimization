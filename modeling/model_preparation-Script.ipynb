{
 "cells": [
  {
   "cell_type": "code",
   "execution_count": 2,
   "id": "71e36396",
   "metadata": {},
   "outputs": [],
   "source": [
    "import csv\n",
    "import time\n",
    "import asyncio\n",
    "import random"
   ]
  },
  {
   "cell_type": "code",
   "execution_count": 3,
   "id": "0148dbf2",
   "metadata": {},
   "outputs": [],
   "source": [
    "def load_logs(file_name):\n",
    "    with open(file_name, 'r') as log:\n",
    "        reader = csv.reader(log)\n",
    "        logs = list(reader)\n",
    "    return logs"
   ]
  },
  {
   "cell_type": "code",
   "execution_count": 4,
   "id": "98f768d4",
   "metadata": {},
   "outputs": [],
   "source": [
    "def update_log(file_name, logs):\n",
    "    with open(file_name, 'w', newline = '') as log:\n",
    "        writer = csv.writer(log)\n",
    "        writer.writerows(logs)"
   ]
  },
  {
   "cell_type": "code",
   "execution_count": 26,
   "id": "8cdb7c04",
   "metadata": {},
   "outputs": [],
   "source": [
    "def get_timeout(logs, flow_key, timestamp, min_timeout, max_timeout):\n",
    "    headers = logs[0]  # First row contains headers\n",
    "    flow_keys = headers.index('flow_key')\n",
    "    packet_intervals = headers.index('packet_interval')\n",
    "    last_packet_time = headers.index('last_packet_time')\n",
    "    \n",
    "    for row in logs:\n",
    "        if row[flow_keys] == flow_key:\n",
    "            timeout = int(row[packet_intervals])\n",
    "            \n",
    "            if float(row[last_packet_time]) > 0:\n",
    "                new_timeout = timestamp - float(row[last_packet_time])\n",
    "\n",
    "                if new_timeout > timeout:\n",
    "                    print(f'new_timout value {new_timeout}')\n",
    "                    if new_timeout <= max_timeout: \n",
    "                        timeout = int(new_timeout)\n",
    "\n",
    "#                     else:\n",
    "#                         timeout = max_timeout\n",
    "\n",
    "                    row[packet_intervals] = timeout\n",
    "\n",
    "            row[last_packet_time] = timestamp\n",
    "            break\n",
    "            \n",
    "        else:\n",
    "            timeout = 0\n",
    "\n",
    "    if timeout == 0:\n",
    "        timeout = min_timeout\n",
    "        new_log = [flow_key, timeout, timestamp]\n",
    "        logs.append(new_log)\n",
    "    \n",
    "    return timeout, logs"
   ]
  },
  {
   "cell_type": "code",
   "execution_count": 8,
   "id": "32802487",
   "metadata": {},
   "outputs": [],
   "source": [
    "# Set packet information\n",
    "packet_flowkey = '41.177.26.15-15.71.149.241-00:03:ba:24:40:1b-00:00:0c:07:ac:00-6.0'\n",
    "packet_timestamp = time.time()\n",
    "\n",
    "# Set timeout parameters\n",
    "min_timeout = 1\n",
    "max_timeout = 11"
   ]
  },
  {
   "cell_type": "code",
   "execution_count": 34,
   "id": "3939582f",
   "metadata": {},
   "outputs": [
    {
     "name": "stdout",
     "output_type": "stream",
     "text": [
      "new_timout value 24.95454716682434\n",
      "Predicted Timeout is 9\n"
     ]
    }
   ],
   "source": [
    "# Load log file\n",
    "input_file = 'extracted_features_5.csv'\n",
    "logs = load_logs(input_file)\n",
    "\n",
    "# Get timeout value\n",
    "timeout, logs = get_timeout(logs, packet_flowkey, time.time(), min_timeout, max_timeout)\n",
    "\n",
    "# Update logs\n",
    "update_log(input_file, logs)\n",
    "\n",
    "print(f'Predicted Timeout is {timeout}')"
   ]
  },
  {
   "cell_type": "code",
   "execution_count": null,
   "id": "811bc755",
   "metadata": {},
   "outputs": [],
   "source": []
  }
 ],
 "metadata": {
  "kernelspec": {
   "display_name": "Python 3 (ipykernel)",
   "language": "python",
   "name": "python3"
  },
  "language_info": {
   "codemirror_mode": {
    "name": "ipython",
    "version": 3
   },
   "file_extension": ".py",
   "mimetype": "text/x-python",
   "name": "python",
   "nbconvert_exporter": "python",
   "pygments_lexer": "ipython3",
   "version": "3.10.11"
  }
 },
 "nbformat": 4,
 "nbformat_minor": 5
}
