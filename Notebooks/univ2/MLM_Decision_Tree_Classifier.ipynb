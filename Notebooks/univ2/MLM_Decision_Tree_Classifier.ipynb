{
 "cells": [
  {
   "cell_type": "code",
   "execution_count": 1,
   "id": "45f608d0",
   "metadata": {},
   "outputs": [
    {
     "name": "stderr",
     "output_type": "stream",
     "text": [
      "/usr/lib/python3/dist-packages/scipy/__init__.py:146: UserWarning: A NumPy version >=1.17.3 and <1.25.0 is required for this version of SciPy (detected version 1.26.1\n",
      "  warnings.warn(f\"A NumPy version >={np_minversion} and <{np_maxversion}\"\n"
     ]
    }
   ],
   "source": [
    "import pandas as pd\n",
    "import numpy as np\n",
    "from datetime import datetime\n",
    "import matplotlib.pyplot as plt\n",
    "import matplotlib\n",
    "import seaborn as sns\n",
    "from sklearn.tree import DecisionTreeClassifier\n",
    "from sklearn.model_selection import GridSearchCV\n",
    "from sklearn.model_selection import RepeatedStratifiedKFold\n",
    "from sklearn.model_selection import cross_val_score\n",
    "from sklearn.model_selection import train_test_split\n",
    "\n",
    "from sklearn.preprocessing import OneHotEncoder\n",
    "from sklearn.preprocessing import StandardScaler\n",
    "# from sklearn.metrics import r2_score, mean_absolute_error, mean_squared_error, explained_variance_score, median_absolute_error, max_error\n",
    "from sklearn.metrics import confusion_matrix, precision_score, accuracy_score, recall_score, f1_score, roc_curve, auc, roc_auc_score\n",
    "import itertools\n",
    "import joblib\n",
    "import json\n",
    "import csv"
   ]
  },
  {
   "cell_type": "code",
   "execution_count": 2,
   "id": "3d646160",
   "metadata": {},
   "outputs": [],
   "source": [
    "model_info = {\n",
    "    'model_name': 'Decision Tree Classifier',\n",
    "    'training_file': 'MLM_Decision_Tree_Classifier.ipynb',\n",
    "    'file_name': 'model_dtc.pkl',\n",
    "    'scaler_file': 'model_dtc_scaler.pkl',\n",
    "    'prepared_by': 'Digital Khalid',\n",
    "    'library': 'Scikit-Learn',\n",
    "    'algorithm': 'Decision Tree Classifier',\n",
    "    'normalization': 'Standard Scaler (Z-Score)',\n",
    "    'data_file': '../../datasets/univ2_flows.csv',\n",
    "    'features': ['source_port', 'destination_port', 'protocol', 'first_pkt_size'],\n",
    "    'target': ['flow_class'],\n",
    "}"
   ]
  },
  {
   "cell_type": "code",
   "execution_count": 3,
   "id": "537f1e72",
   "metadata": {},
   "outputs": [],
   "source": [
    "# Save model information as json file\n",
    "with open(f'model_info_{model_info[\"model_name\"]}.json', \"w\") as outfile:\n",
    "    json.dump(model_info, outfile)"
   ]
  },
  {
   "cell_type": "code",
   "execution_count": 4,
   "id": "e250a77b",
   "metadata": {},
   "outputs": [],
   "source": [
    "# Read data file\n",
    "input_file = model_info['data_file']\n",
    "input_file\n",
    "flows = pd.read_csv(input_file)"
   ]
  },
  {
   "cell_type": "markdown",
   "id": "4c30d387-58b8-47e9-a1ce-cfa20bd4a168",
   "metadata": {},
   "source": [
    "### Dataset Adjustments"
   ]
  },
  {
   "cell_type": "code",
   "execution_count": 5,
   "id": "94b4e379-4d16-4afe-a2fd-b594ac5cf1d5",
   "metadata": {},
   "outputs": [
    {
     "data": {
      "text/plain": [
       "idle_timeout\n",
       "11    13646\n",
       "0      9547\n",
       "1      5451\n",
       "2        72\n",
       "6        59\n",
       "3        32\n",
       "4        30\n",
       "8        16\n",
       "9        15\n",
       "5        14\n",
       "7        13\n",
       "10        7\n",
       "Name: count, dtype: int64"
      ]
     },
     "execution_count": 5,
     "metadata": {},
     "output_type": "execute_result"
    }
   ],
   "source": [
    "flows['idle_timeout'].value_counts()"
   ]
  },
  {
   "cell_type": "code",
   "execution_count": 6,
   "id": "6b6d0ea5",
   "metadata": {},
   "outputs": [],
   "source": [
    "features = model_info['features']\n",
    "target = model_info['target']\n",
    "\n",
    "X = flows[features]\n",
    "y = flows[target]"
   ]
  },
  {
   "cell_type": "code",
   "execution_count": 7,
   "id": "9065fc5e",
   "metadata": {},
   "outputs": [
    {
     "name": "stdout",
     "output_type": "stream",
     "text": [
      "features (X)\n",
      "       source_port  destination_port  protocol  first_pkt_size\n",
      "0             7001              7000        17              86\n",
      "1             7000              7001        17             108\n",
      "2             7001              7000        17              86\n",
      "3             7000              7001        17             190\n",
      "4             7001              7000        17              86\n",
      "...            ...               ...       ...             ...\n",
      "28897        52980              7002        17             107\n",
      "28898         7001              7003        17              86\n",
      "28899         7003              7001        17            1118\n",
      "28900        56059              7002        17             334\n",
      "28901         7002             56059        17              78\n",
      "\n",
      "[28902 rows x 4 columns]\n"
     ]
    }
   ],
   "source": [
    "print(f'features (X)\\n{X}')"
   ]
  },
  {
   "cell_type": "code",
   "execution_count": 8,
   "id": "f28efa26",
   "metadata": {},
   "outputs": [
    {
     "name": "stdout",
     "output_type": "stream",
     "text": [
      "features (y)\n",
      "       flow_class\n",
      "0               3\n",
      "1               3\n",
      "2               3\n",
      "3               3\n",
      "4               3\n",
      "...           ...\n",
      "28897           1\n",
      "28898           2\n",
      "28899           2\n",
      "28900           2\n",
      "28901           2\n",
      "\n",
      "[28902 rows x 1 columns]\n"
     ]
    }
   ],
   "source": [
    "print(f'features (y)\\n{y}')"
   ]
  },
  {
   "cell_type": "code",
   "execution_count": 9,
   "id": "82267d8c",
   "metadata": {},
   "outputs": [
    {
     "data": {
      "text/plain": [
       "array([[-0.52138077, -0.48779902,  0.21136645, -0.40665979],\n",
       "       [-0.52143559, -0.48774281,  0.21136645, -0.29813006],\n",
       "       [-0.52138077, -0.48779902,  0.21136645, -0.40665979],\n",
       "       ...,\n",
       "       [-0.52127113, -0.48774281,  0.21136645,  4.68437117],\n",
       "       [ 2.16802626, -0.4876866 ,  0.21136645,  0.81676625],\n",
       "       [-0.52132595,  2.26984203,  0.21136645, -0.44612515]])"
      ]
     },
     "execution_count": 9,
     "metadata": {},
     "output_type": "execute_result"
    }
   ],
   "source": [
    "# Data Normalization\n",
    "scaler = StandardScaler()\n",
    "\n",
    "# Fit the scaler on the training set and transform the training set\n",
    "X_norm = scaler.fit_transform(X)\n",
    "X_norm"
   ]
  },
  {
   "cell_type": "code",
   "execution_count": 10,
   "id": "94ada0d2",
   "metadata": {},
   "outputs": [
    {
     "data": {
      "text/plain": [
       "['model_dtc_scaler.pkl']"
      ]
     },
     "execution_count": 10,
     "metadata": {},
     "output_type": "execute_result"
    }
   ],
   "source": [
    "joblib.dump(scaler, model_info['scaler_file'])"
   ]
  },
  {
   "cell_type": "code",
   "execution_count": 11,
   "id": "fac90889",
   "metadata": {},
   "outputs": [
    {
     "data": {
      "text/plain": [
       "flow_class\n",
       "1    38.478306\n",
       "3    31.229673\n",
       "2    30.292021\n",
       "Name: count, dtype: float64"
      ]
     },
     "execution_count": 11,
     "metadata": {},
     "output_type": "execute_result"
    }
   ],
   "source": [
    "flows['flow_class'].value_counts()/ flows.shape[0] * 100"
   ]
  },
  {
   "cell_type": "markdown",
   "id": "9f896505",
   "metadata": {
    "jp-MarkdownHeadingCollapsed": true
   },
   "source": [
    "### Cost Effective Decision Tree (Balanced)"
   ]
  },
  {
   "cell_type": "code",
   "execution_count": 45,
   "id": "040113ba",
   "metadata": {},
   "outputs": [],
   "source": [
    "# define model\n",
    "model = DecisionTreeClassifier(class_weight='balanced')"
   ]
  },
  {
   "cell_type": "code",
   "execution_count": 46,
   "id": "dbedfe0f",
   "metadata": {},
   "outputs": [],
   "source": [
    "# define evaluation procedure\n",
    "cv = RepeatedStratifiedKFold(n_splits=10, n_repeats=3, random_state=1)"
   ]
  },
  {
   "cell_type": "code",
   "execution_count": 52,
   "id": "a0c0b850",
   "metadata": {},
   "outputs": [
    {
     "name": "stderr",
     "output_type": "stream",
     "text": [
      "[Parallel(n_jobs=-1)]: Using backend LokyBackend with 8 concurrent workers.\n",
      "[Parallel(n_jobs=-1)]: Done  30 out of  30 | elapsed:   42.9s finished\n"
     ]
    }
   ],
   "source": [
    "scores = cross_val_score(model, X_norm, y, scoring='roc_auc', cv=cv, n_jobs=-1, verbose=2)"
   ]
  },
  {
   "cell_type": "code",
   "execution_count": 54,
   "id": "efa6b978",
   "metadata": {},
   "outputs": [
    {
     "data": {
      "text/plain": [
       "0.5613046076671847"
      ]
     },
     "execution_count": 54,
     "metadata": {},
     "output_type": "execute_result"
    }
   ],
   "source": [
    "np.mean(scores)"
   ]
  },
  {
   "cell_type": "markdown",
   "id": "792d90a3",
   "metadata": {
    "jp-MarkdownHeadingCollapsed": true
   },
   "source": [
    "### Cost Effective Decision Tree (Using multiple class weights and hyperparameters with Grid Search CV)"
   ]
  },
  {
   "cell_type": "code",
   "execution_count": 12,
   "id": "7088d3ad",
   "metadata": {},
   "outputs": [
    {
     "ename": "NameError",
     "evalue": "name 'DecisionTreeRegressor' is not defined",
     "output_type": "error",
     "traceback": [
      "\u001b[0;31m---------------------------------------------------------------------------\u001b[0m",
      "\u001b[0;31mNameError\u001b[0m                                 Traceback (most recent call last)",
      "Cell \u001b[0;32mIn[12], line 2\u001b[0m\n\u001b[1;32m      1\u001b[0m \u001b[38;5;66;03m# define model\u001b[39;00m\n\u001b[0;32m----> 2\u001b[0m model \u001b[38;5;241m=\u001b[39m \u001b[43mDecisionTreeRegressor\u001b[49m()\n",
      "\u001b[0;31mNameError\u001b[0m: name 'DecisionTreeRegressor' is not defined"
     ]
    }
   ],
   "source": [
    "# define model\n",
    "model = DecisionTreeRegressor()"
   ]
  },
  {
   "cell_type": "code",
   "execution_count": 81,
   "id": "1bed4f36",
   "metadata": {},
   "outputs": [],
   "source": [
    "# define grid\n",
    "# balance = [{0:1,1:1000}, {0:1,1:500}, {0:1,1:250}]\n",
    "# class_weight = [{0:1,1:1500}, {0:1,1:2500}]\n",
    "max_depth = [5, 10]\n",
    "min_samples_split = [5, 10]\n",
    "criterion = ['absolute_error', 'squared_error', 'poisson', 'friedman_mse']\n",
    "splitter = ['best', 'random']\n",
    "\n",
    "param_grid = {\n",
    "    # 'class_weight': class_weight,\n",
    "    'max_depth': max_depth,\n",
    "    'min_samples_split': min_samples_split,\n",
    "    'criterion': criterion,\n",
    "    'splitter': splitter,\n",
    "}"
   ]
  },
  {
   "cell_type": "code",
   "execution_count": 82,
   "id": "d9cc8006",
   "metadata": {},
   "outputs": [],
   "source": [
    "# define evaluation procedure\n",
    "cv = RepeatedStratifiedKFold(n_splits=2, n_repeats=1, random_state=1)\n",
    "# define grid search\n",
    "grid = GridSearchCV(estimator=model, param_grid=param_grid, n_jobs=-3, cv=cv, scoring='neg_mean_squared_error', verbose=3)"
   ]
  },
  {
   "cell_type": "code",
   "execution_count": 83,
   "id": "1651fc84",
   "metadata": {
    "scrolled": true
   },
   "outputs": [
    {
     "name": "stdout",
     "output_type": "stream",
     "text": [
      "Fitting 2 folds for each of 32 candidates, totalling 64 fits\n"
     ]
    },
    {
     "ename": "KeyboardInterrupt",
     "evalue": "",
     "output_type": "error",
     "traceback": [
      "\u001b[0;31m---------------------------------------------------------------------------\u001b[0m",
      "\u001b[0;31mKeyboardInterrupt\u001b[0m                         Traceback (most recent call last)",
      "Cell \u001b[0;32mIn[83], line 2\u001b[0m\n\u001b[1;32m      1\u001b[0m \u001b[38;5;66;03m# execute the grid search\u001b[39;00m\n\u001b[0;32m----> 2\u001b[0m grid_result \u001b[38;5;241m=\u001b[39m \u001b[43mgrid\u001b[49m\u001b[38;5;241;43m.\u001b[39;49m\u001b[43mfit\u001b[49m\u001b[43m(\u001b[49m\u001b[43mX_norm\u001b[49m\u001b[43m,\u001b[49m\u001b[43m \u001b[49m\u001b[43my\u001b[49m\u001b[43m)\u001b[49m\n",
      "File \u001b[0;32m~/.local/lib/python3.10/site-packages/sklearn/base.py:1151\u001b[0m, in \u001b[0;36m_fit_context.<locals>.decorator.<locals>.wrapper\u001b[0;34m(estimator, *args, **kwargs)\u001b[0m\n\u001b[1;32m   1144\u001b[0m     estimator\u001b[38;5;241m.\u001b[39m_validate_params()\n\u001b[1;32m   1146\u001b[0m \u001b[38;5;28;01mwith\u001b[39;00m config_context(\n\u001b[1;32m   1147\u001b[0m     skip_parameter_validation\u001b[38;5;241m=\u001b[39m(\n\u001b[1;32m   1148\u001b[0m         prefer_skip_nested_validation \u001b[38;5;129;01mor\u001b[39;00m global_skip_validation\n\u001b[1;32m   1149\u001b[0m     )\n\u001b[1;32m   1150\u001b[0m ):\n\u001b[0;32m-> 1151\u001b[0m     \u001b[38;5;28;01mreturn\u001b[39;00m \u001b[43mfit_method\u001b[49m\u001b[43m(\u001b[49m\u001b[43mestimator\u001b[49m\u001b[43m,\u001b[49m\u001b[43m \u001b[49m\u001b[38;5;241;43m*\u001b[39;49m\u001b[43margs\u001b[49m\u001b[43m,\u001b[49m\u001b[43m \u001b[49m\u001b[38;5;241;43m*\u001b[39;49m\u001b[38;5;241;43m*\u001b[39;49m\u001b[43mkwargs\u001b[49m\u001b[43m)\u001b[49m\n",
      "File \u001b[0;32m~/.local/lib/python3.10/site-packages/sklearn/model_selection/_search.py:898\u001b[0m, in \u001b[0;36mBaseSearchCV.fit\u001b[0;34m(self, X, y, groups, **fit_params)\u001b[0m\n\u001b[1;32m    892\u001b[0m     results \u001b[38;5;241m=\u001b[39m \u001b[38;5;28mself\u001b[39m\u001b[38;5;241m.\u001b[39m_format_results(\n\u001b[1;32m    893\u001b[0m         all_candidate_params, n_splits, all_out, all_more_results\n\u001b[1;32m    894\u001b[0m     )\n\u001b[1;32m    896\u001b[0m     \u001b[38;5;28;01mreturn\u001b[39;00m results\n\u001b[0;32m--> 898\u001b[0m \u001b[38;5;28;43mself\u001b[39;49m\u001b[38;5;241;43m.\u001b[39;49m\u001b[43m_run_search\u001b[49m\u001b[43m(\u001b[49m\u001b[43mevaluate_candidates\u001b[49m\u001b[43m)\u001b[49m\n\u001b[1;32m    900\u001b[0m \u001b[38;5;66;03m# multimetric is determined here because in the case of a callable\u001b[39;00m\n\u001b[1;32m    901\u001b[0m \u001b[38;5;66;03m# self.scoring the return type is only known after calling\u001b[39;00m\n\u001b[1;32m    902\u001b[0m first_test_score \u001b[38;5;241m=\u001b[39m all_out[\u001b[38;5;241m0\u001b[39m][\u001b[38;5;124m\"\u001b[39m\u001b[38;5;124mtest_scores\u001b[39m\u001b[38;5;124m\"\u001b[39m]\n",
      "File \u001b[0;32m~/.local/lib/python3.10/site-packages/sklearn/model_selection/_search.py:1419\u001b[0m, in \u001b[0;36mGridSearchCV._run_search\u001b[0;34m(self, evaluate_candidates)\u001b[0m\n\u001b[1;32m   1417\u001b[0m \u001b[38;5;28;01mdef\u001b[39;00m \u001b[38;5;21m_run_search\u001b[39m(\u001b[38;5;28mself\u001b[39m, evaluate_candidates):\n\u001b[1;32m   1418\u001b[0m \u001b[38;5;250m    \u001b[39m\u001b[38;5;124;03m\"\"\"Search all candidates in param_grid\"\"\"\u001b[39;00m\n\u001b[0;32m-> 1419\u001b[0m     \u001b[43mevaluate_candidates\u001b[49m\u001b[43m(\u001b[49m\u001b[43mParameterGrid\u001b[49m\u001b[43m(\u001b[49m\u001b[38;5;28;43mself\u001b[39;49m\u001b[38;5;241;43m.\u001b[39;49m\u001b[43mparam_grid\u001b[49m\u001b[43m)\u001b[49m\u001b[43m)\u001b[49m\n",
      "File \u001b[0;32m~/.local/lib/python3.10/site-packages/sklearn/model_selection/_search.py:845\u001b[0m, in \u001b[0;36mBaseSearchCV.fit.<locals>.evaluate_candidates\u001b[0;34m(candidate_params, cv, more_results)\u001b[0m\n\u001b[1;32m    837\u001b[0m \u001b[38;5;28;01mif\u001b[39;00m \u001b[38;5;28mself\u001b[39m\u001b[38;5;241m.\u001b[39mverbose \u001b[38;5;241m>\u001b[39m \u001b[38;5;241m0\u001b[39m:\n\u001b[1;32m    838\u001b[0m     \u001b[38;5;28mprint\u001b[39m(\n\u001b[1;32m    839\u001b[0m         \u001b[38;5;124m\"\u001b[39m\u001b[38;5;124mFitting \u001b[39m\u001b[38;5;132;01m{0}\u001b[39;00m\u001b[38;5;124m folds for each of \u001b[39m\u001b[38;5;132;01m{1}\u001b[39;00m\u001b[38;5;124m candidates,\u001b[39m\u001b[38;5;124m\"\u001b[39m\n\u001b[1;32m    840\u001b[0m         \u001b[38;5;124m\"\u001b[39m\u001b[38;5;124m totalling \u001b[39m\u001b[38;5;132;01m{2}\u001b[39;00m\u001b[38;5;124m fits\u001b[39m\u001b[38;5;124m\"\u001b[39m\u001b[38;5;241m.\u001b[39mformat(\n\u001b[1;32m    841\u001b[0m             n_splits, n_candidates, n_candidates \u001b[38;5;241m*\u001b[39m n_splits\n\u001b[1;32m    842\u001b[0m         )\n\u001b[1;32m    843\u001b[0m     )\n\u001b[0;32m--> 845\u001b[0m out \u001b[38;5;241m=\u001b[39m \u001b[43mparallel\u001b[49m\u001b[43m(\u001b[49m\n\u001b[1;32m    846\u001b[0m \u001b[43m    \u001b[49m\u001b[43mdelayed\u001b[49m\u001b[43m(\u001b[49m\u001b[43m_fit_and_score\u001b[49m\u001b[43m)\u001b[49m\u001b[43m(\u001b[49m\n\u001b[1;32m    847\u001b[0m \u001b[43m        \u001b[49m\u001b[43mclone\u001b[49m\u001b[43m(\u001b[49m\u001b[43mbase_estimator\u001b[49m\u001b[43m)\u001b[49m\u001b[43m,\u001b[49m\n\u001b[1;32m    848\u001b[0m \u001b[43m        \u001b[49m\u001b[43mX\u001b[49m\u001b[43m,\u001b[49m\n\u001b[1;32m    849\u001b[0m \u001b[43m        \u001b[49m\u001b[43my\u001b[49m\u001b[43m,\u001b[49m\n\u001b[1;32m    850\u001b[0m \u001b[43m        \u001b[49m\u001b[43mtrain\u001b[49m\u001b[38;5;241;43m=\u001b[39;49m\u001b[43mtrain\u001b[49m\u001b[43m,\u001b[49m\n\u001b[1;32m    851\u001b[0m \u001b[43m        \u001b[49m\u001b[43mtest\u001b[49m\u001b[38;5;241;43m=\u001b[39;49m\u001b[43mtest\u001b[49m\u001b[43m,\u001b[49m\n\u001b[1;32m    852\u001b[0m \u001b[43m        \u001b[49m\u001b[43mparameters\u001b[49m\u001b[38;5;241;43m=\u001b[39;49m\u001b[43mparameters\u001b[49m\u001b[43m,\u001b[49m\n\u001b[1;32m    853\u001b[0m \u001b[43m        \u001b[49m\u001b[43msplit_progress\u001b[49m\u001b[38;5;241;43m=\u001b[39;49m\u001b[43m(\u001b[49m\u001b[43msplit_idx\u001b[49m\u001b[43m,\u001b[49m\u001b[43m \u001b[49m\u001b[43mn_splits\u001b[49m\u001b[43m)\u001b[49m\u001b[43m,\u001b[49m\n\u001b[1;32m    854\u001b[0m \u001b[43m        \u001b[49m\u001b[43mcandidate_progress\u001b[49m\u001b[38;5;241;43m=\u001b[39;49m\u001b[43m(\u001b[49m\u001b[43mcand_idx\u001b[49m\u001b[43m,\u001b[49m\u001b[43m \u001b[49m\u001b[43mn_candidates\u001b[49m\u001b[43m)\u001b[49m\u001b[43m,\u001b[49m\n\u001b[1;32m    855\u001b[0m \u001b[43m        \u001b[49m\u001b[38;5;241;43m*\u001b[39;49m\u001b[38;5;241;43m*\u001b[39;49m\u001b[43mfit_and_score_kwargs\u001b[49m\u001b[43m,\u001b[49m\n\u001b[1;32m    856\u001b[0m \u001b[43m    \u001b[49m\u001b[43m)\u001b[49m\n\u001b[1;32m    857\u001b[0m \u001b[43m    \u001b[49m\u001b[38;5;28;43;01mfor\u001b[39;49;00m\u001b[43m \u001b[49m\u001b[43m(\u001b[49m\u001b[43mcand_idx\u001b[49m\u001b[43m,\u001b[49m\u001b[43m \u001b[49m\u001b[43mparameters\u001b[49m\u001b[43m)\u001b[49m\u001b[43m,\u001b[49m\u001b[43m \u001b[49m\u001b[43m(\u001b[49m\u001b[43msplit_idx\u001b[49m\u001b[43m,\u001b[49m\u001b[43m \u001b[49m\u001b[43m(\u001b[49m\u001b[43mtrain\u001b[49m\u001b[43m,\u001b[49m\u001b[43m \u001b[49m\u001b[43mtest\u001b[49m\u001b[43m)\u001b[49m\u001b[43m)\u001b[49m\u001b[43m \u001b[49m\u001b[38;5;129;43;01min\u001b[39;49;00m\u001b[43m \u001b[49m\u001b[43mproduct\u001b[49m\u001b[43m(\u001b[49m\n\u001b[1;32m    858\u001b[0m \u001b[43m        \u001b[49m\u001b[38;5;28;43menumerate\u001b[39;49m\u001b[43m(\u001b[49m\u001b[43mcandidate_params\u001b[49m\u001b[43m)\u001b[49m\u001b[43m,\u001b[49m\u001b[43m \u001b[49m\u001b[38;5;28;43menumerate\u001b[39;49m\u001b[43m(\u001b[49m\u001b[43mcv\u001b[49m\u001b[38;5;241;43m.\u001b[39;49m\u001b[43msplit\u001b[49m\u001b[43m(\u001b[49m\u001b[43mX\u001b[49m\u001b[43m,\u001b[49m\u001b[43m \u001b[49m\u001b[43my\u001b[49m\u001b[43m,\u001b[49m\u001b[43m \u001b[49m\u001b[43mgroups\u001b[49m\u001b[43m)\u001b[49m\u001b[43m)\u001b[49m\n\u001b[1;32m    859\u001b[0m \u001b[43m    \u001b[49m\u001b[43m)\u001b[49m\n\u001b[1;32m    860\u001b[0m \u001b[43m\u001b[49m\u001b[43m)\u001b[49m\n\u001b[1;32m    862\u001b[0m \u001b[38;5;28;01mif\u001b[39;00m \u001b[38;5;28mlen\u001b[39m(out) \u001b[38;5;241m<\u001b[39m \u001b[38;5;241m1\u001b[39m:\n\u001b[1;32m    863\u001b[0m     \u001b[38;5;28;01mraise\u001b[39;00m \u001b[38;5;167;01mValueError\u001b[39;00m(\n\u001b[1;32m    864\u001b[0m         \u001b[38;5;124m\"\u001b[39m\u001b[38;5;124mNo fits were performed. \u001b[39m\u001b[38;5;124m\"\u001b[39m\n\u001b[1;32m    865\u001b[0m         \u001b[38;5;124m\"\u001b[39m\u001b[38;5;124mWas the CV iterator empty? \u001b[39m\u001b[38;5;124m\"\u001b[39m\n\u001b[1;32m    866\u001b[0m         \u001b[38;5;124m\"\u001b[39m\u001b[38;5;124mWere there no candidates?\u001b[39m\u001b[38;5;124m\"\u001b[39m\n\u001b[1;32m    867\u001b[0m     )\n",
      "File \u001b[0;32m~/.local/lib/python3.10/site-packages/sklearn/utils/parallel.py:65\u001b[0m, in \u001b[0;36mParallel.__call__\u001b[0;34m(self, iterable)\u001b[0m\n\u001b[1;32m     60\u001b[0m config \u001b[38;5;241m=\u001b[39m get_config()\n\u001b[1;32m     61\u001b[0m iterable_with_config \u001b[38;5;241m=\u001b[39m (\n\u001b[1;32m     62\u001b[0m     (_with_config(delayed_func, config), args, kwargs)\n\u001b[1;32m     63\u001b[0m     \u001b[38;5;28;01mfor\u001b[39;00m delayed_func, args, kwargs \u001b[38;5;129;01min\u001b[39;00m iterable\n\u001b[1;32m     64\u001b[0m )\n\u001b[0;32m---> 65\u001b[0m \u001b[38;5;28;01mreturn\u001b[39;00m \u001b[38;5;28;43msuper\u001b[39;49m\u001b[43m(\u001b[49m\u001b[43m)\u001b[49m\u001b[38;5;241;43m.\u001b[39;49m\u001b[38;5;21;43m__call__\u001b[39;49m\u001b[43m(\u001b[49m\u001b[43miterable_with_config\u001b[49m\u001b[43m)\u001b[49m\n",
      "File \u001b[0;32m/usr/local/lib/python3.10/dist-packages/joblib/parallel.py:1952\u001b[0m, in \u001b[0;36mParallel.__call__\u001b[0;34m(self, iterable)\u001b[0m\n\u001b[1;32m   1946\u001b[0m \u001b[38;5;66;03m# The first item from the output is blank, but it makes the interpreter\u001b[39;00m\n\u001b[1;32m   1947\u001b[0m \u001b[38;5;66;03m# progress until it enters the Try/Except block of the generator and\u001b[39;00m\n\u001b[1;32m   1948\u001b[0m \u001b[38;5;66;03m# reach the first `yield` statement. This starts the aynchronous\u001b[39;00m\n\u001b[1;32m   1949\u001b[0m \u001b[38;5;66;03m# dispatch of the tasks to the workers.\u001b[39;00m\n\u001b[1;32m   1950\u001b[0m \u001b[38;5;28mnext\u001b[39m(output)\n\u001b[0;32m-> 1952\u001b[0m \u001b[38;5;28;01mreturn\u001b[39;00m output \u001b[38;5;28;01mif\u001b[39;00m \u001b[38;5;28mself\u001b[39m\u001b[38;5;241m.\u001b[39mreturn_generator \u001b[38;5;28;01melse\u001b[39;00m \u001b[38;5;28;43mlist\u001b[39;49m\u001b[43m(\u001b[49m\u001b[43moutput\u001b[49m\u001b[43m)\u001b[49m\n",
      "File \u001b[0;32m/usr/local/lib/python3.10/dist-packages/joblib/parallel.py:1595\u001b[0m, in \u001b[0;36mParallel._get_outputs\u001b[0;34m(self, iterator, pre_dispatch)\u001b[0m\n\u001b[1;32m   1592\u001b[0m     \u001b[38;5;28;01myield\u001b[39;00m\n\u001b[1;32m   1594\u001b[0m     \u001b[38;5;28;01mwith\u001b[39;00m \u001b[38;5;28mself\u001b[39m\u001b[38;5;241m.\u001b[39m_backend\u001b[38;5;241m.\u001b[39mretrieval_context():\n\u001b[0;32m-> 1595\u001b[0m         \u001b[38;5;28;01myield from\u001b[39;00m \u001b[38;5;28mself\u001b[39m\u001b[38;5;241m.\u001b[39m_retrieve()\n\u001b[1;32m   1597\u001b[0m \u001b[38;5;28;01mexcept\u001b[39;00m \u001b[38;5;167;01mGeneratorExit\u001b[39;00m:\n\u001b[1;32m   1598\u001b[0m     \u001b[38;5;66;03m# The generator has been garbage collected before being fully\u001b[39;00m\n\u001b[1;32m   1599\u001b[0m     \u001b[38;5;66;03m# consumed. This aborts the remaining tasks if possible and warn\u001b[39;00m\n\u001b[1;32m   1600\u001b[0m     \u001b[38;5;66;03m# the user if necessary.\u001b[39;00m\n\u001b[1;32m   1601\u001b[0m     \u001b[38;5;28mself\u001b[39m\u001b[38;5;241m.\u001b[39m_exception \u001b[38;5;241m=\u001b[39m \u001b[38;5;28;01mTrue\u001b[39;00m\n",
      "File \u001b[0;32m/usr/local/lib/python3.10/dist-packages/joblib/parallel.py:1707\u001b[0m, in \u001b[0;36mParallel._retrieve\u001b[0;34m(self)\u001b[0m\n\u001b[1;32m   1702\u001b[0m \u001b[38;5;66;03m# If the next job is not ready for retrieval yet, we just wait for\u001b[39;00m\n\u001b[1;32m   1703\u001b[0m \u001b[38;5;66;03m# async callbacks to progress.\u001b[39;00m\n\u001b[1;32m   1704\u001b[0m \u001b[38;5;28;01mif\u001b[39;00m ((\u001b[38;5;28mlen\u001b[39m(\u001b[38;5;28mself\u001b[39m\u001b[38;5;241m.\u001b[39m_jobs) \u001b[38;5;241m==\u001b[39m \u001b[38;5;241m0\u001b[39m) \u001b[38;5;129;01mor\u001b[39;00m\n\u001b[1;32m   1705\u001b[0m     (\u001b[38;5;28mself\u001b[39m\u001b[38;5;241m.\u001b[39m_jobs[\u001b[38;5;241m0\u001b[39m]\u001b[38;5;241m.\u001b[39mget_status(\n\u001b[1;32m   1706\u001b[0m         timeout\u001b[38;5;241m=\u001b[39m\u001b[38;5;28mself\u001b[39m\u001b[38;5;241m.\u001b[39mtimeout) \u001b[38;5;241m==\u001b[39m TASK_PENDING)):\n\u001b[0;32m-> 1707\u001b[0m     \u001b[43mtime\u001b[49m\u001b[38;5;241;43m.\u001b[39;49m\u001b[43msleep\u001b[49m\u001b[43m(\u001b[49m\u001b[38;5;241;43m0.01\u001b[39;49m\u001b[43m)\u001b[49m\n\u001b[1;32m   1708\u001b[0m     \u001b[38;5;28;01mcontinue\u001b[39;00m\n\u001b[1;32m   1710\u001b[0m \u001b[38;5;66;03m# We need to be careful: the job list can be filling up as\u001b[39;00m\n\u001b[1;32m   1711\u001b[0m \u001b[38;5;66;03m# we empty it and Python list are not thread-safe by\u001b[39;00m\n\u001b[1;32m   1712\u001b[0m \u001b[38;5;66;03m# default hence the use of the lock\u001b[39;00m\n",
      "\u001b[0;31mKeyboardInterrupt\u001b[0m: "
     ]
    }
   ],
   "source": [
    "# execute the grid search\n",
    "grid_result = grid.fit(X_norm, y)"
   ]
  },
  {
   "cell_type": "code",
   "execution_count": 133,
   "id": "c825f5ac",
   "metadata": {
    "scrolled": true
   },
   "outputs": [
    {
     "name": "stdout",
     "output_type": "stream",
     "text": [
      "\n",
      "Best: 0.970502 using {'class_weight': {0: 1, 1: 1500}, 'criterion': 'gini', 'max_depth': 5, 'min_samples_split': 5, 'splitter': 'best'}\n",
      "0.945225 (0.006527) with: {'class_weight': {0: 1, 1: 1500}, 'criterion': 'gini', 'max_depth': 3, 'min_samples_split': 5, 'splitter': 'best'}\n",
      "0.879478 (0.021756) with: {'class_weight': {0: 1, 1: 1500}, 'criterion': 'gini', 'max_depth': 3, 'min_samples_split': 5, 'splitter': 'random'}\n",
      "0.945225 (0.006527) with: {'class_weight': {0: 1, 1: 1500}, 'criterion': 'gini', 'max_depth': 3, 'min_samples_split': 10, 'splitter': 'best'}\n",
      "0.870731 (0.021427) with: {'class_weight': {0: 1, 1: 1500}, 'criterion': 'gini', 'max_depth': 3, 'min_samples_split': 10, 'splitter': 'random'}\n",
      "0.945225 (0.006527) with: {'class_weight': {0: 1, 1: 1500}, 'criterion': 'gini', 'max_depth': 3, 'min_samples_split': 15, 'splitter': 'best'}\n",
      "0.868124 (0.024640) with: {'class_weight': {0: 1, 1: 1500}, 'criterion': 'gini', 'max_depth': 3, 'min_samples_split': 15, 'splitter': 'random'}\n",
      "0.970502 (0.004787) with: {'class_weight': {0: 1, 1: 1500}, 'criterion': 'gini', 'max_depth': 5, 'min_samples_split': 5, 'splitter': 'best'}\n",
      "0.917420 (0.024249) with: {'class_weight': {0: 1, 1: 1500}, 'criterion': 'gini', 'max_depth': 5, 'min_samples_split': 5, 'splitter': 'random'}\n",
      "0.970502 (0.004787) with: {'class_weight': {0: 1, 1: 1500}, 'criterion': 'gini', 'max_depth': 5, 'min_samples_split': 10, 'splitter': 'best'}\n",
      "0.912810 (0.023396) with: {'class_weight': {0: 1, 1: 1500}, 'criterion': 'gini', 'max_depth': 5, 'min_samples_split': 10, 'splitter': 'random'}\n",
      "0.970502 (0.004787) with: {'class_weight': {0: 1, 1: 1500}, 'criterion': 'gini', 'max_depth': 5, 'min_samples_split': 15, 'splitter': 'best'}\n",
      "0.920839 (0.014119) with: {'class_weight': {0: 1, 1: 1500}, 'criterion': 'gini', 'max_depth': 5, 'min_samples_split': 15, 'splitter': 'random'}\n",
      "0.956745 (0.011131) with: {'class_weight': {0: 1, 1: 1500}, 'criterion': 'gini', 'max_depth': 10, 'min_samples_split': 5, 'splitter': 'best'}\n",
      "0.949785 (0.012849) with: {'class_weight': {0: 1, 1: 1500}, 'criterion': 'gini', 'max_depth': 10, 'min_samples_split': 5, 'splitter': 'random'}\n",
      "0.956741 (0.011131) with: {'class_weight': {0: 1, 1: 1500}, 'criterion': 'gini', 'max_depth': 10, 'min_samples_split': 10, 'splitter': 'best'}\n",
      "0.946734 (0.015991) with: {'class_weight': {0: 1, 1: 1500}, 'criterion': 'gini', 'max_depth': 10, 'min_samples_split': 10, 'splitter': 'random'}\n",
      "0.956735 (0.011130) with: {'class_weight': {0: 1, 1: 1500}, 'criterion': 'gini', 'max_depth': 10, 'min_samples_split': 15, 'splitter': 'best'}\n",
      "0.948704 (0.012000) with: {'class_weight': {0: 1, 1: 1500}, 'criterion': 'gini', 'max_depth': 10, 'min_samples_split': 15, 'splitter': 'random'}\n",
      "0.945837 (0.005234) with: {'class_weight': {0: 1, 1: 1500}, 'criterion': 'entropy', 'max_depth': 3, 'min_samples_split': 5, 'splitter': 'best'}\n",
      "0.874851 (0.026787) with: {'class_weight': {0: 1, 1: 1500}, 'criterion': 'entropy', 'max_depth': 3, 'min_samples_split': 5, 'splitter': 'random'}\n",
      "0.945837 (0.005234) with: {'class_weight': {0: 1, 1: 1500}, 'criterion': 'entropy', 'max_depth': 3, 'min_samples_split': 10, 'splitter': 'best'}\n",
      "0.879720 (0.025964) with: {'class_weight': {0: 1, 1: 1500}, 'criterion': 'entropy', 'max_depth': 3, 'min_samples_split': 10, 'splitter': 'random'}\n",
      "0.945837 (0.005234) with: {'class_weight': {0: 1, 1: 1500}, 'criterion': 'entropy', 'max_depth': 3, 'min_samples_split': 15, 'splitter': 'best'}\n",
      "0.877819 (0.023420) with: {'class_weight': {0: 1, 1: 1500}, 'criterion': 'entropy', 'max_depth': 3, 'min_samples_split': 15, 'splitter': 'random'}\n",
      "0.969730 (0.005022) with: {'class_weight': {0: 1, 1: 1500}, 'criterion': 'entropy', 'max_depth': 5, 'min_samples_split': 5, 'splitter': 'best'}\n",
      "0.910649 (0.023422) with: {'class_weight': {0: 1, 1: 1500}, 'criterion': 'entropy', 'max_depth': 5, 'min_samples_split': 5, 'splitter': 'random'}\n",
      "0.969730 (0.005022) with: {'class_weight': {0: 1, 1: 1500}, 'criterion': 'entropy', 'max_depth': 5, 'min_samples_split': 10, 'splitter': 'best'}\n",
      "0.920073 (0.024184) with: {'class_weight': {0: 1, 1: 1500}, 'criterion': 'entropy', 'max_depth': 5, 'min_samples_split': 10, 'splitter': 'random'}\n",
      "0.969730 (0.005022) with: {'class_weight': {0: 1, 1: 1500}, 'criterion': 'entropy', 'max_depth': 5, 'min_samples_split': 15, 'splitter': 'best'}\n",
      "0.922256 (0.016383) with: {'class_weight': {0: 1, 1: 1500}, 'criterion': 'entropy', 'max_depth': 5, 'min_samples_split': 15, 'splitter': 'random'}\n",
      "0.953267 (0.012423) with: {'class_weight': {0: 1, 1: 1500}, 'criterion': 'entropy', 'max_depth': 10, 'min_samples_split': 5, 'splitter': 'best'}\n",
      "0.948492 (0.012995) with: {'class_weight': {0: 1, 1: 1500}, 'criterion': 'entropy', 'max_depth': 10, 'min_samples_split': 5, 'splitter': 'random'}\n",
      "0.953366 (0.012316) with: {'class_weight': {0: 1, 1: 1500}, 'criterion': 'entropy', 'max_depth': 10, 'min_samples_split': 10, 'splitter': 'best'}\n",
      "0.949989 (0.012238) with: {'class_weight': {0: 1, 1: 1500}, 'criterion': 'entropy', 'max_depth': 10, 'min_samples_split': 10, 'splitter': 'random'}\n",
      "0.953466 (0.012258) with: {'class_weight': {0: 1, 1: 1500}, 'criterion': 'entropy', 'max_depth': 10, 'min_samples_split': 15, 'splitter': 'best'}\n",
      "0.950764 (0.014251) with: {'class_weight': {0: 1, 1: 1500}, 'criterion': 'entropy', 'max_depth': 10, 'min_samples_split': 15, 'splitter': 'random'}\n",
      "0.944866 (0.006321) with: {'class_weight': {0: 1, 1: 2500}, 'criterion': 'gini', 'max_depth': 3, 'min_samples_split': 5, 'splitter': 'best'}\n",
      "0.881208 (0.020243) with: {'class_weight': {0: 1, 1: 2500}, 'criterion': 'gini', 'max_depth': 3, 'min_samples_split': 5, 'splitter': 'random'}\n",
      "0.944866 (0.006321) with: {'class_weight': {0: 1, 1: 2500}, 'criterion': 'gini', 'max_depth': 3, 'min_samples_split': 10, 'splitter': 'best'}\n",
      "0.874417 (0.032580) with: {'class_weight': {0: 1, 1: 2500}, 'criterion': 'gini', 'max_depth': 3, 'min_samples_split': 10, 'splitter': 'random'}\n",
      "0.944866 (0.006321) with: {'class_weight': {0: 1, 1: 2500}, 'criterion': 'gini', 'max_depth': 3, 'min_samples_split': 15, 'splitter': 'best'}\n",
      "0.876603 (0.021667) with: {'class_weight': {0: 1, 1: 2500}, 'criterion': 'gini', 'max_depth': 3, 'min_samples_split': 15, 'splitter': 'random'}\n",
      "0.970212 (0.004548) with: {'class_weight': {0: 1, 1: 2500}, 'criterion': 'gini', 'max_depth': 5, 'min_samples_split': 5, 'splitter': 'best'}\n",
      "0.924801 (0.016284) with: {'class_weight': {0: 1, 1: 2500}, 'criterion': 'gini', 'max_depth': 5, 'min_samples_split': 5, 'splitter': 'random'}\n",
      "0.970212 (0.004548) with: {'class_weight': {0: 1, 1: 2500}, 'criterion': 'gini', 'max_depth': 5, 'min_samples_split': 10, 'splitter': 'best'}\n",
      "0.917530 (0.018654) with: {'class_weight': {0: 1, 1: 2500}, 'criterion': 'gini', 'max_depth': 5, 'min_samples_split': 10, 'splitter': 'random'}\n",
      "0.970212 (0.004548) with: {'class_weight': {0: 1, 1: 2500}, 'criterion': 'gini', 'max_depth': 5, 'min_samples_split': 15, 'splitter': 'best'}\n",
      "0.917556 (0.020862) with: {'class_weight': {0: 1, 1: 2500}, 'criterion': 'gini', 'max_depth': 5, 'min_samples_split': 15, 'splitter': 'random'}\n",
      "0.959533 (0.012137) with: {'class_weight': {0: 1, 1: 2500}, 'criterion': 'gini', 'max_depth': 10, 'min_samples_split': 5, 'splitter': 'best'}\n",
      "0.953231 (0.010367) with: {'class_weight': {0: 1, 1: 2500}, 'criterion': 'gini', 'max_depth': 10, 'min_samples_split': 5, 'splitter': 'random'}\n",
      "0.959529 (0.012137) with: {'class_weight': {0: 1, 1: 2500}, 'criterion': 'gini', 'max_depth': 10, 'min_samples_split': 10, 'splitter': 'best'}\n",
      "0.953070 (0.012132) with: {'class_weight': {0: 1, 1: 2500}, 'criterion': 'gini', 'max_depth': 10, 'min_samples_split': 10, 'splitter': 'random'}\n",
      "0.959525 (0.012137) with: {'class_weight': {0: 1, 1: 2500}, 'criterion': 'gini', 'max_depth': 10, 'min_samples_split': 15, 'splitter': 'best'}\n",
      "0.949172 (0.012541) with: {'class_weight': {0: 1, 1: 2500}, 'criterion': 'gini', 'max_depth': 10, 'min_samples_split': 15, 'splitter': 'random'}\n",
      "0.945869 (0.005113) with: {'class_weight': {0: 1, 1: 2500}, 'criterion': 'entropy', 'max_depth': 3, 'min_samples_split': 5, 'splitter': 'best'}\n",
      "0.873114 (0.020835) with: {'class_weight': {0: 1, 1: 2500}, 'criterion': 'entropy', 'max_depth': 3, 'min_samples_split': 5, 'splitter': 'random'}\n",
      "0.945869 (0.005113) with: {'class_weight': {0: 1, 1: 2500}, 'criterion': 'entropy', 'max_depth': 3, 'min_samples_split': 10, 'splitter': 'best'}\n",
      "0.876679 (0.022370) with: {'class_weight': {0: 1, 1: 2500}, 'criterion': 'entropy', 'max_depth': 3, 'min_samples_split': 10, 'splitter': 'random'}\n",
      "0.945869 (0.005113) with: {'class_weight': {0: 1, 1: 2500}, 'criterion': 'entropy', 'max_depth': 3, 'min_samples_split': 15, 'splitter': 'best'}\n",
      "0.876286 (0.038358) with: {'class_weight': {0: 1, 1: 2500}, 'criterion': 'entropy', 'max_depth': 3, 'min_samples_split': 15, 'splitter': 'random'}\n",
      "0.970420 (0.004285) with: {'class_weight': {0: 1, 1: 2500}, 'criterion': 'entropy', 'max_depth': 5, 'min_samples_split': 5, 'splitter': 'best'}\n",
      "0.920086 (0.022246) with: {'class_weight': {0: 1, 1: 2500}, 'criterion': 'entropy', 'max_depth': 5, 'min_samples_split': 5, 'splitter': 'random'}\n",
      "0.970420 (0.004285) with: {'class_weight': {0: 1, 1: 2500}, 'criterion': 'entropy', 'max_depth': 5, 'min_samples_split': 10, 'splitter': 'best'}\n",
      "0.922675 (0.021135) with: {'class_weight': {0: 1, 1: 2500}, 'criterion': 'entropy', 'max_depth': 5, 'min_samples_split': 10, 'splitter': 'random'}\n",
      "0.970420 (0.004285) with: {'class_weight': {0: 1, 1: 2500}, 'criterion': 'entropy', 'max_depth': 5, 'min_samples_split': 15, 'splitter': 'best'}\n",
      "0.921274 (0.015107) with: {'class_weight': {0: 1, 1: 2500}, 'criterion': 'entropy', 'max_depth': 5, 'min_samples_split': 15, 'splitter': 'random'}\n",
      "0.954161 (0.011855) with: {'class_weight': {0: 1, 1: 2500}, 'criterion': 'entropy', 'max_depth': 10, 'min_samples_split': 5, 'splitter': 'best'}\n",
      "0.945944 (0.018806) with: {'class_weight': {0: 1, 1: 2500}, 'criterion': 'entropy', 'max_depth': 10, 'min_samples_split': 5, 'splitter': 'random'}\n",
      "0.954262 (0.011739) with: {'class_weight': {0: 1, 1: 2500}, 'criterion': 'entropy', 'max_depth': 10, 'min_samples_split': 10, 'splitter': 'best'}\n",
      "0.952237 (0.010333) with: {'class_weight': {0: 1, 1: 2500}, 'criterion': 'entropy', 'max_depth': 10, 'min_samples_split': 10, 'splitter': 'random'}\n",
      "0.954361 (0.011638) with: {'class_weight': {0: 1, 1: 2500}, 'criterion': 'entropy', 'max_depth': 10, 'min_samples_split': 15, 'splitter': 'best'}\n",
      "0.948906 (0.013942) with: {'class_weight': {0: 1, 1: 2500}, 'criterion': 'entropy', 'max_depth': 10, 'min_samples_split': 15, 'splitter': 'random'}\n"
     ]
    }
   ],
   "source": [
    "# report the best configuration\n",
    "print()\n",
    "print(\"Best: %f using %s\" % (grid_result.best_score_, grid_result.best_params_))\n",
    "# report all configurations\n",
    "means = grid_result.cv_results_['mean_test_score']\n",
    "stds = grid_result.cv_results_['std_test_score']\n",
    "params = grid_result.cv_results_['params']\n",
    "for mean, stdev, param in zip(means, stds, params):\n",
    "    print(\"%f (%f) with: %r\" % (mean, stdev, param))"
   ]
  },
  {
   "cell_type": "markdown",
   "id": "730246ca",
   "metadata": {},
   "source": [
    "### Cost Effective Decision Tree (Using best hyperparameters)"
   ]
  },
  {
   "cell_type": "code",
   "execution_count": 13,
   "id": "3e5bac81-2197-457d-8d2b-287e907b40b6",
   "metadata": {},
   "outputs": [],
   "source": [
    "X_train, X_test, y_train, y_test = train_test_split(X_norm, y, random_state=1, test_size=0.25, stratify=y)"
   ]
  },
  {
   "cell_type": "code",
   "execution_count": 14,
   "id": "b47eeb79",
   "metadata": {},
   "outputs": [],
   "source": [
    "def test_hyperparameters(class_weight, max_depth, min_sample_split, criterion, splitter, log):\n",
    "    best_param_grid = {\n",
    "        'class_weight': class_weight,\n",
    "        'max_depth': max_depth,\n",
    "        'min_samples_split': min_sample_split,\n",
    "        'criterion': criterion,\n",
    "        'splitter': splitter,\n",
    "    }\n",
    "    \n",
    "    # define model\n",
    "    model = DecisionTreeClassifier(**best_param_grid)\n",
    "    model.fit(X_train, y_train)\n",
    "    y_pred = model.predict(X_test)\n",
    "    \n",
    "    # Evaluate the model's performance\n",
    "    precision = precision_score(y_test, y_pred, average = 'macro', zero_division=0)\n",
    "    recall = recall_score(y_test, y_pred, average = 'macro', zero_division=0)\n",
    "    f1 = f1_score(y_test, y_pred, average = 'macro', zero_division=0)\n",
    "    accuracy = accuracy_score(y_test, y_pred)\n",
    "    # fpr, tpr, _ = roc_curve(y_test, y_pred)\n",
    "    # roc_auc = auc(fpr, tpr)\n",
    "\n",
    "    log_val = [max_depth, min_sample_split, criterion, splitter, precision, recall, f1, accuracy]\n",
    "    print(log_val)\n",
    "    \n",
    "    if log == True:\n",
    "        log_file = 'log_dtc_training.csv'\n",
    "        \n",
    "        with open(log_file, 'a', newline = '') as logs:\n",
    "            writer = csv.writer(logs)\n",
    "            writer.writerow(log_val)"
   ]
  },
  {
   "cell_type": "code",
   "execution_count": 15,
   "id": "97b3b5ec-5bac-4c53-8ddc-c5c245944040",
   "metadata": {
    "scrolled": true
   },
   "outputs": [
    {
     "name": "stdout",
     "output_type": "stream",
     "text": [
      "[3, 3, 'gini', 'best', 0.6818409170791826, 0.6814248478458192, 0.67093601830726, 0.6929144755051204]\n",
      "[3, 3, 'gini', 'random', 0.7685076419895625, 0.6433955734853134, 0.5519457018252489, 0.6663437586493219]\n",
      "[3, 3, 'entropy', 'best', 0.6568707617230498, 0.6626456455338452, 0.6482967652997027, 0.6752006642679214]\n",
      "[3, 3, 'entropy', 'random', 0.7572642718343605, 0.6284591078565372, 0.5407121503631585, 0.6487683365624135]\n",
      "[3, 5, 'gini', 'best', 0.6818409170791826, 0.6814248478458192, 0.67093601830726, 0.6929144755051204]\n",
      "[3, 5, 'gini', 'random', 0.7638595865136181, 0.6421145343455029, 0.5523132122379826, 0.6657902020481594]\n",
      "[3, 5, 'entropy', 'best', 0.6568707617230498, 0.6626456455338452, 0.6482967652997027, 0.6752006642679214]\n",
      "[3, 5, 'entropy', 'random', 0.7477362117610995, 0.6388378358763959, 0.5454653854905671, 0.6616385275394409]\n",
      "[3, 10, 'gini', 'best', 0.6818409170791826, 0.6814248478458192, 0.67093601830726, 0.6929144755051204]\n",
      "[3, 10, 'gini', 'random', 0.7562234340818758, 0.6016335297589132, 0.5225913496048157, 0.617492388596734]\n",
      "[3, 10, 'entropy', 'best', 0.6568707617230498, 0.6626456455338452, 0.6482967652997027, 0.6752006642679214]\n",
      "[3, 10, 'entropy', 'random', 0.6680190007511846, 0.6316473293213937, 0.5479377771451132, 0.6518128978688071]\n",
      "[5, 3, 'gini', 'best', 0.710879333212778, 0.7086832815891483, 0.700114652955341, 0.7182396900083033]\n",
      "[5, 3, 'gini', 'random', 0.7565961103807256, 0.6503009739342067, 0.5625379716445639, 0.673539994464434]\n",
      "[5, 3, 'entropy', 'best', 0.6965664301135717, 0.6946812322312302, 0.6882103061120176, 0.7034320509272073]\n",
      "[5, 3, 'entropy', 'random', 0.6572368591213498, 0.6466502793889225, 0.6012993209527963, 0.6591475228342097]\n",
      "[5, 5, 'gini', 'best', 0.710879333212778, 0.7086832815891483, 0.700114652955341, 0.7182396900083033]\n",
      "[5, 5, 'gini', 'random', 0.6650805296855512, 0.6557592238930882, 0.6039523612093477, 0.6725712704123996]\n",
      "[5, 5, 'entropy', 'best', 0.6965664301135717, 0.6946812322312302, 0.6882103061120176, 0.7034320509272073]\n",
      "[5, 5, 'entropy', 'random', 0.6594993974277882, 0.6421001822058289, 0.5930094694348974, 0.6551342374757819]\n",
      "[5, 10, 'gini', 'best', 0.7110778411910172, 0.7088355581233344, 0.7002963258007648, 0.718378079158594]\n",
      "[5, 10, 'gini', 'random', 0.6645427434312027, 0.657326207229545, 0.6047396399191362, 0.6734016053141434]\n",
      "[5, 10, 'entropy', 'best', 0.6965664301135717, 0.6946812322312302, 0.6882103061120176, 0.7034320509272073]\n",
      "[5, 10, 'entropy', 'random', 0.6817697726956475, 0.6489383439757435, 0.5744532822553486, 0.6704954331580404]\n",
      "[10, 3, 'gini', 'best', 0.7475146731001244, 0.7452375140550657, 0.7361939002811712, 0.7594796567949073]\n",
      "[10, 3, 'gini', 'random', 0.7008973789542642, 0.6727851152204313, 0.6209578555466195, 0.6908386382507612]\n",
      "[10, 3, 'entropy', 'best', 0.7465469470872836, 0.7444579325416463, 0.7354161617671778, 0.7586493218931636]\n",
      "[10, 3, 'entropy', 'random', 0.7465113530647794, 0.7247582101032629, 0.6997067405706092, 0.7403819540548021]\n",
      "[10, 5, 'gini', 'best', 0.7463504971893068, 0.744084046696472, 0.7348731108937799, 0.7583725435925823]\n",
      "[10, 5, 'gini', 'random', 0.7336696656300838, 0.6700060339849093, 0.6032678510944037, 0.6909770274010517]\n",
      "[10, 5, 'entropy', 'best', 0.7460950482860405, 0.7440612599920757, 0.7349547396548567, 0.7582341544422917]\n",
      "[10, 5, 'entropy', 'random', 0.7304851346646645, 0.6816809084224413, 0.6259341032933265, 0.7013562136728481]\n",
      "[10, 10, 'gini', 'best', 0.7469312797821064, 0.7447347010144783, 0.7357637666007131, 0.7589261001937448]\n",
      "[10, 10, 'gini', 'random', 0.699279397531742, 0.6756098566516382, 0.6257888972452279, 0.6931912538057017]\n",
      "[10, 10, 'entropy', 'best', 0.7467228445593244, 0.7446699560995832, 0.7356313770015325, 0.7589261001937448]\n",
      "[10, 10, 'entropy', 'random', 0.6766458844176633, 0.671311918299658, 0.6419509362180635, 0.684749515637974]\n"
     ]
    }
   ],
   "source": [
    "class_weight = ['balanced']\n",
    "max_depth = [3, 5, 10]\n",
    "min_sample_split = [3, 5, 10]\n",
    "criterion = ['gini', 'entropy']\n",
    "splitter = ['best', 'random']\n",
    "log = True\n",
    "\n",
    "for i in class_weight:\n",
    "    for j in max_depth:\n",
    "        for k in min_sample_split:\n",
    "            for l in criterion:\n",
    "                for m in splitter:\n",
    "                    test_hyperparameters(i, j, k, l, m, log)"
   ]
  },
  {
   "cell_type": "code",
   "execution_count": 17,
   "id": "167b306f",
   "metadata": {},
   "outputs": [],
   "source": [
    "best_param_grid = {\n",
    "    'class_weight': 'balanced',\n",
    "    'max_depth': 10,\n",
    "    'min_samples_split': 3,\n",
    "    'criterion': 'gini',\n",
    "    'splitter': 'best',\n",
    "}\n",
    "\n",
    "# define model\n",
    "model = DecisionTreeClassifier(**best_param_grid)\n",
    "model.fit(X_train, y_train)\n",
    "y_pred = model.predict(X_test)"
   ]
  },
  {
   "cell_type": "code",
   "execution_count": 115,
   "id": "a4184e5f-54c9-43bb-a846-b1021fa89d3c",
   "metadata": {},
   "outputs": [
    {
     "name": "stdout",
     "output_type": "stream",
     "text": [
      "Precision: 0.7579501070666493\n",
      "Recall: 0.753193667615748\n",
      "F1 Score: 0.7443416129165016\n",
      "Accuracy: 0.7676285378174521\n"
     ]
    }
   ],
   "source": [
    "# Evaluate the model's performance\n",
    "precision = precision_score(y_test, y_pred, average = 'macro', zero_division=0)\n",
    "print(\"Precision:\", precision)\n",
    "\n",
    "recall = recall_score(y_test, y_pred, average = 'macro', zero_division=0)\n",
    "print(\"Recall:\", recall)\n",
    "\n",
    "f1 = f1_score(y_test, y_pred, average = 'macro', zero_division=0)\n",
    "print(\"F1 Score:\", f1)\n",
    "\n",
    "accuracy = accuracy_score(y_test, y_pred)\n",
    "print('Accuracy:', accuracy)"
   ]
  },
  {
   "cell_type": "code",
   "execution_count": null,
   "id": "8868b44f-cc88-4c51-b0d6-b6e47b3d3fbc",
   "metadata": {},
   "outputs": [],
   "source": []
  },
  {
   "cell_type": "code",
   "execution_count": 75,
   "id": "4576ecdf",
   "metadata": {},
   "outputs": [],
   "source": [
    "model = joblib.load(model_info['file_name'])"
   ]
  },
  {
   "cell_type": "code",
   "execution_count": 76,
   "id": "bd5bca1d-b199-4656-8934-405535e1f889",
   "metadata": {},
   "outputs": [],
   "source": [
    "scaler = joblib.load(model_info['scaler_file'])"
   ]
  },
  {
   "cell_type": "code",
   "execution_count": 77,
   "id": "f7800ad0-3860-407c-a604-b2fd0434efd1",
   "metadata": {},
   "outputs": [
    {
     "data": {
      "text/plain": [
       "array([0.4 , 0.37, 0.  , 0.22])"
      ]
     },
     "execution_count": 77,
     "metadata": {},
     "output_type": "execute_result"
    }
   ],
   "source": [
    "model.feature_importances_"
   ]
  },
  {
   "cell_type": "code",
   "execution_count": 78,
   "id": "dddbeb24-0989-467e-a6c4-969ad8cfd827",
   "metadata": {},
   "outputs": [],
   "source": [
    "features = model_info['features']\n",
    "target = model_info['target']\n",
    "\n",
    "X = flows[features]\n",
    "y = flows[target]"
   ]
  },
  {
   "cell_type": "code",
   "execution_count": 79,
   "id": "519c2471-57c1-4104-80af-1a1bd4c20c22",
   "metadata": {},
   "outputs": [],
   "source": [
    "X_norm = scaler.transform(X)"
   ]
  },
  {
   "cell_type": "code",
   "execution_count": 80,
   "id": "8a4e96b8",
   "metadata": {},
   "outputs": [],
   "source": [
    "predictions = model.predict(X_norm)"
   ]
  },
  {
   "cell_type": "code",
   "execution_count": 81,
   "id": "0eff89a5-172a-44fd-8591-fda518ae47f4",
   "metadata": {},
   "outputs": [
    {
     "data": {
      "text/plain": [
       "array([3, 3, 3, ..., 3, 1, 1])"
      ]
     },
     "execution_count": 81,
     "metadata": {},
     "output_type": "execute_result"
    }
   ],
   "source": [
    "predictions"
   ]
  },
  {
   "cell_type": "code",
   "execution_count": 82,
   "id": "db87fbb0-dce9-4fe3-9c89-fcd229b5a022",
   "metadata": {},
   "outputs": [
    {
     "data": {
      "text/plain": [
       "0        3\n",
       "1        3\n",
       "2        3\n",
       "3        3\n",
       "4        3\n",
       "        ..\n",
       "28897    1\n",
       "28898    3\n",
       "28899    3\n",
       "28900    1\n",
       "28901    1\n",
       "Length: 28902, dtype: int64"
      ]
     },
     "execution_count": 82,
     "metadata": {},
     "output_type": "execute_result"
    }
   ],
   "source": [
    "predictions = pd.Series(predictions, index=X.index)\n",
    "predictions"
   ]
  },
  {
   "cell_type": "code",
   "execution_count": 83,
   "id": "fb90fa2c-025b-476a-b1aa-43a00b635e0d",
   "metadata": {},
   "outputs": [
    {
     "data": {
      "text/html": [
       "<div>\n",
       "<style scoped>\n",
       "    .dataframe tbody tr th:only-of-type {\n",
       "        vertical-align: middle;\n",
       "    }\n",
       "\n",
       "    .dataframe tbody tr th {\n",
       "        vertical-align: top;\n",
       "    }\n",
       "\n",
       "    .dataframe thead th {\n",
       "        text-align: right;\n",
       "    }\n",
       "</style>\n",
       "<table border=\"1\" class=\"dataframe\">\n",
       "  <thead>\n",
       "    <tr style=\"text-align: right;\">\n",
       "      <th></th>\n",
       "      <th>source_port</th>\n",
       "      <th>destination_port</th>\n",
       "      <th>protocol</th>\n",
       "      <th>first_pkt_size</th>\n",
       "      <th>flow_class</th>\n",
       "      <th>0</th>\n",
       "    </tr>\n",
       "  </thead>\n",
       "  <tbody>\n",
       "    <tr>\n",
       "      <th>0</th>\n",
       "      <td>7001</td>\n",
       "      <td>7000</td>\n",
       "      <td>17</td>\n",
       "      <td>86</td>\n",
       "      <td>3</td>\n",
       "      <td>3</td>\n",
       "    </tr>\n",
       "    <tr>\n",
       "      <th>1</th>\n",
       "      <td>7000</td>\n",
       "      <td>7001</td>\n",
       "      <td>17</td>\n",
       "      <td>108</td>\n",
       "      <td>3</td>\n",
       "      <td>3</td>\n",
       "    </tr>\n",
       "    <tr>\n",
       "      <th>2</th>\n",
       "      <td>7001</td>\n",
       "      <td>7000</td>\n",
       "      <td>17</td>\n",
       "      <td>86</td>\n",
       "      <td>3</td>\n",
       "      <td>3</td>\n",
       "    </tr>\n",
       "    <tr>\n",
       "      <th>3</th>\n",
       "      <td>7000</td>\n",
       "      <td>7001</td>\n",
       "      <td>17</td>\n",
       "      <td>190</td>\n",
       "      <td>3</td>\n",
       "      <td>3</td>\n",
       "    </tr>\n",
       "    <tr>\n",
       "      <th>4</th>\n",
       "      <td>7001</td>\n",
       "      <td>7000</td>\n",
       "      <td>17</td>\n",
       "      <td>86</td>\n",
       "      <td>3</td>\n",
       "      <td>3</td>\n",
       "    </tr>\n",
       "    <tr>\n",
       "      <th>...</th>\n",
       "      <td>...</td>\n",
       "      <td>...</td>\n",
       "      <td>...</td>\n",
       "      <td>...</td>\n",
       "      <td>...</td>\n",
       "      <td>...</td>\n",
       "    </tr>\n",
       "    <tr>\n",
       "      <th>28897</th>\n",
       "      <td>52980</td>\n",
       "      <td>7002</td>\n",
       "      <td>17</td>\n",
       "      <td>107</td>\n",
       "      <td>1</td>\n",
       "      <td>1</td>\n",
       "    </tr>\n",
       "    <tr>\n",
       "      <th>28898</th>\n",
       "      <td>7001</td>\n",
       "      <td>7003</td>\n",
       "      <td>17</td>\n",
       "      <td>86</td>\n",
       "      <td>2</td>\n",
       "      <td>3</td>\n",
       "    </tr>\n",
       "    <tr>\n",
       "      <th>28899</th>\n",
       "      <td>7003</td>\n",
       "      <td>7001</td>\n",
       "      <td>17</td>\n",
       "      <td>1118</td>\n",
       "      <td>2</td>\n",
       "      <td>3</td>\n",
       "    </tr>\n",
       "    <tr>\n",
       "      <th>28900</th>\n",
       "      <td>56059</td>\n",
       "      <td>7002</td>\n",
       "      <td>17</td>\n",
       "      <td>334</td>\n",
       "      <td>2</td>\n",
       "      <td>1</td>\n",
       "    </tr>\n",
       "    <tr>\n",
       "      <th>28901</th>\n",
       "      <td>7002</td>\n",
       "      <td>56059</td>\n",
       "      <td>17</td>\n",
       "      <td>78</td>\n",
       "      <td>2</td>\n",
       "      <td>1</td>\n",
       "    </tr>\n",
       "  </tbody>\n",
       "</table>\n",
       "<p>28902 rows × 6 columns</p>\n",
       "</div>"
      ],
      "text/plain": [
       "       source_port  destination_port  protocol  first_pkt_size  flow_class  0\n",
       "0             7001              7000        17              86           3  3\n",
       "1             7000              7001        17             108           3  3\n",
       "2             7001              7000        17              86           3  3\n",
       "3             7000              7001        17             190           3  3\n",
       "4             7001              7000        17              86           3  3\n",
       "...            ...               ...       ...             ...         ... ..\n",
       "28897        52980              7002        17             107           1  1\n",
       "28898         7001              7003        17              86           2  3\n",
       "28899         7003              7001        17            1118           2  3\n",
       "28900        56059              7002        17             334           2  1\n",
       "28901         7002             56059        17              78           2  1\n",
       "\n",
       "[28902 rows x 6 columns]"
      ]
     },
     "execution_count": 83,
     "metadata": {},
     "output_type": "execute_result"
    }
   ],
   "source": [
    "pred_flows = pd.concat([X, y, predictions], axis=1)\n",
    "pred_flows"
   ]
  },
  {
   "cell_type": "code",
   "execution_count": 84,
   "id": "5591bd04-29c1-42b7-8a36-c7e5f035b33f",
   "metadata": {},
   "outputs": [],
   "source": [
    "pred_flows.rename(columns={'idle_timeout': 'actual_idle_timeout'}, inplace=True)"
   ]
  },
  {
   "cell_type": "code",
   "execution_count": 85,
   "id": "74d5b05f-3768-4003-b34e-6ba70639ce74",
   "metadata": {},
   "outputs": [],
   "source": [
    "pred_flows.rename(columns={0: 'predicted_class'}, inplace=True)"
   ]
  },
  {
   "cell_type": "code",
   "execution_count": 86,
   "id": "af825d25-117f-42e8-95ee-9b2fe494423f",
   "metadata": {},
   "outputs": [],
   "source": [
    "pred_flows['predicted_class'] = pred_flows['predicted_class'].astype(int)"
   ]
  },
  {
   "cell_type": "code",
   "execution_count": 87,
   "id": "63e966b6-3a8e-40b6-a609-6431be05980a",
   "metadata": {},
   "outputs": [
    {
     "data": {
      "text/html": [
       "<div>\n",
       "<style scoped>\n",
       "    .dataframe tbody tr th:only-of-type {\n",
       "        vertical-align: middle;\n",
       "    }\n",
       "\n",
       "    .dataframe tbody tr th {\n",
       "        vertical-align: top;\n",
       "    }\n",
       "\n",
       "    .dataframe thead th {\n",
       "        text-align: right;\n",
       "    }\n",
       "</style>\n",
       "<table border=\"1\" class=\"dataframe\">\n",
       "  <thead>\n",
       "    <tr style=\"text-align: right;\">\n",
       "      <th></th>\n",
       "      <th>source_port</th>\n",
       "      <th>destination_port</th>\n",
       "      <th>protocol</th>\n",
       "      <th>first_pkt_size</th>\n",
       "      <th>flow_class</th>\n",
       "      <th>predicted_class</th>\n",
       "    </tr>\n",
       "  </thead>\n",
       "  <tbody>\n",
       "    <tr>\n",
       "      <th>0</th>\n",
       "      <td>7001</td>\n",
       "      <td>7000</td>\n",
       "      <td>17</td>\n",
       "      <td>86</td>\n",
       "      <td>3</td>\n",
       "      <td>3</td>\n",
       "    </tr>\n",
       "    <tr>\n",
       "      <th>1</th>\n",
       "      <td>7000</td>\n",
       "      <td>7001</td>\n",
       "      <td>17</td>\n",
       "      <td>108</td>\n",
       "      <td>3</td>\n",
       "      <td>3</td>\n",
       "    </tr>\n",
       "    <tr>\n",
       "      <th>2</th>\n",
       "      <td>7001</td>\n",
       "      <td>7000</td>\n",
       "      <td>17</td>\n",
       "      <td>86</td>\n",
       "      <td>3</td>\n",
       "      <td>3</td>\n",
       "    </tr>\n",
       "    <tr>\n",
       "      <th>3</th>\n",
       "      <td>7000</td>\n",
       "      <td>7001</td>\n",
       "      <td>17</td>\n",
       "      <td>190</td>\n",
       "      <td>3</td>\n",
       "      <td>3</td>\n",
       "    </tr>\n",
       "    <tr>\n",
       "      <th>4</th>\n",
       "      <td>7001</td>\n",
       "      <td>7000</td>\n",
       "      <td>17</td>\n",
       "      <td>86</td>\n",
       "      <td>3</td>\n",
       "      <td>3</td>\n",
       "    </tr>\n",
       "    <tr>\n",
       "      <th>...</th>\n",
       "      <td>...</td>\n",
       "      <td>...</td>\n",
       "      <td>...</td>\n",
       "      <td>...</td>\n",
       "      <td>...</td>\n",
       "      <td>...</td>\n",
       "    </tr>\n",
       "    <tr>\n",
       "      <th>28897</th>\n",
       "      <td>52980</td>\n",
       "      <td>7002</td>\n",
       "      <td>17</td>\n",
       "      <td>107</td>\n",
       "      <td>1</td>\n",
       "      <td>1</td>\n",
       "    </tr>\n",
       "    <tr>\n",
       "      <th>28898</th>\n",
       "      <td>7001</td>\n",
       "      <td>7003</td>\n",
       "      <td>17</td>\n",
       "      <td>86</td>\n",
       "      <td>2</td>\n",
       "      <td>3</td>\n",
       "    </tr>\n",
       "    <tr>\n",
       "      <th>28899</th>\n",
       "      <td>7003</td>\n",
       "      <td>7001</td>\n",
       "      <td>17</td>\n",
       "      <td>1118</td>\n",
       "      <td>2</td>\n",
       "      <td>3</td>\n",
       "    </tr>\n",
       "    <tr>\n",
       "      <th>28900</th>\n",
       "      <td>56059</td>\n",
       "      <td>7002</td>\n",
       "      <td>17</td>\n",
       "      <td>334</td>\n",
       "      <td>2</td>\n",
       "      <td>1</td>\n",
       "    </tr>\n",
       "    <tr>\n",
       "      <th>28901</th>\n",
       "      <td>7002</td>\n",
       "      <td>56059</td>\n",
       "      <td>17</td>\n",
       "      <td>78</td>\n",
       "      <td>2</td>\n",
       "      <td>1</td>\n",
       "    </tr>\n",
       "  </tbody>\n",
       "</table>\n",
       "<p>28902 rows × 6 columns</p>\n",
       "</div>"
      ],
      "text/plain": [
       "       source_port  destination_port  protocol  first_pkt_size  flow_class  \\\n",
       "0             7001              7000        17              86           3   \n",
       "1             7000              7001        17             108           3   \n",
       "2             7001              7000        17              86           3   \n",
       "3             7000              7001        17             190           3   \n",
       "4             7001              7000        17              86           3   \n",
       "...            ...               ...       ...             ...         ...   \n",
       "28897        52980              7002        17             107           1   \n",
       "28898         7001              7003        17              86           2   \n",
       "28899         7003              7001        17            1118           2   \n",
       "28900        56059              7002        17             334           2   \n",
       "28901         7002             56059        17              78           2   \n",
       "\n",
       "       predicted_class  \n",
       "0                    3  \n",
       "1                    3  \n",
       "2                    3  \n",
       "3                    3  \n",
       "4                    3  \n",
       "...                ...  \n",
       "28897                1  \n",
       "28898                3  \n",
       "28899                3  \n",
       "28900                1  \n",
       "28901                1  \n",
       "\n",
       "[28902 rows x 6 columns]"
      ]
     },
     "execution_count": 87,
     "metadata": {},
     "output_type": "execute_result"
    }
   ],
   "source": [
    "pred_flows"
   ]
  },
  {
   "cell_type": "code",
   "execution_count": 105,
   "id": "0192d3a1-6b29-44ef-b216-d394d2268414",
   "metadata": {},
   "outputs": [],
   "source": [
    "y_test = pred_flows['flow_class']\n",
    "y_pred = pred_flows['predicted_class']"
   ]
  },
  {
   "cell_type": "code",
   "execution_count": 106,
   "id": "4390690c-ffce-44c5-b16e-0accbb533437",
   "metadata": {},
   "outputs": [
    {
     "data": {
      "text/plain": [
       "flow_class\n",
       "1    11121\n",
       "3     9026\n",
       "2     8755\n",
       "Name: count, dtype: int64"
      ]
     },
     "execution_count": 106,
     "metadata": {},
     "output_type": "execute_result"
    }
   ],
   "source": [
    "y_test.value_counts()"
   ]
  },
  {
   "cell_type": "code",
   "execution_count": 107,
   "id": "6489b9a7-90f3-4d70-8447-ecfa2dbcdf7f",
   "metadata": {},
   "outputs": [
    {
     "data": {
      "text/plain": [
       "predicted_class\n",
       "1    11764\n",
       "3    11277\n",
       "2     5861\n",
       "Name: count, dtype: int64"
      ]
     },
     "execution_count": 107,
     "metadata": {},
     "output_type": "execute_result"
    }
   ],
   "source": [
    "y_pred.value_counts()"
   ]
  },
  {
   "cell_type": "code",
   "execution_count": 108,
   "id": "cb8dcfc8",
   "metadata": {},
   "outputs": [
    {
     "data": {
      "text/plain": [
       "<matplotlib.collections.PathCollection at 0x7f0086ce82e0>"
      ]
     },
     "execution_count": 108,
     "metadata": {},
     "output_type": "execute_result"
    },
    {
     "data": {
      "image/png": "[encoded data removed]",
      "text/plain": [
       "<Figure size 640x480 with 1 Axes>"
      ]
     },
     "metadata": {},
     "output_type": "display_data"
    }
   ],
   "source": [
    "fig, ax = plt.subplots()\n",
    "ax.set_xlabel('Test ' + target[0])\n",
    "ax.set_ylabel('Predicted ' + target[0])\n",
    "ax.scatter(y_test, y_pred)"
   ]
  },
  {
   "cell_type": "code",
   "execution_count": null,
   "id": "f4519769-3f60-43bb-a78a-f54f3a276e13",
   "metadata": {},
   "outputs": [],
   "source": []
  }
 ],
 "metadata": {
  "kernelspec": {
   "display_name": "Python 3 (ipykernel)",
   "language": "python",
   "name": "python3"
  },
  "language_info": {
   "codemirror_mode": {
    "name": "ipython",
    "version": 3
   },
   "file_extension": ".py",
   "mimetype": "text/x-python",
   "name": "python",
   "nbconvert_exporter": "python",
   "pygments_lexer": "ipython3",
   "version": "3.10.12"
  }
 },
 "nbformat": 4,
 "nbformat_minor": 5
}
